{
  "nbformat": 4,
  "nbformat_minor": 0,
  "metadata": {
    "colab": {
      "provenance": [],
      "authorship_tag": "ABX9TyPbpXALGuaefxTJd2t5IM+d",
      "include_colab_link": true
    },
    "kernelspec": {
      "name": "python3",
      "display_name": "Python 3"
    },
    "language_info": {
      "name": "python"
    }
  },
  "cells": [
    {
      "cell_type": "markdown",
      "metadata": {
        "id": "view-in-github",
        "colab_type": "text"
      },
      "source": [
        "<a href=\"https://colab.research.google.com/github/Clavel11/pydoku/blob/main/example.ipynb\" target=\"_parent\"><img src=\"https://colab.research.google.com/assets/colab-badge.svg\" alt=\"Open In Colab\"/></a>"
      ]
    },
    {
      "cell_type": "markdown",
      "source": [
        "##This is an example of how to use `pydoku` repository\n",
        "\n",
        "---\n",
        "\n"
      ],
      "metadata": {
        "id": "KuLVit2V0Zl4"
      }
    },
    {
      "cell_type": "markdown",
      "source": [
        "The next cell installs the repository.\n",
        "\n"
      ],
      "metadata": {
        "id": "leWblO2O15iN"
      }
    },
    {
      "cell_type": "code",
      "execution_count": null,
      "metadata": {
        "id": "zGeQKx2TzcaL"
      },
      "outputs": [],
      "source": [
        "! pip install git+https://github.com/Clavel11/pydoku"
      ]
    },
    {
      "cell_type": "code",
      "source": [
        "from pydoku.__init__ import *"
      ],
      "metadata": {
        "id": "OBEqFLwg89mA"
      },
      "execution_count": 5,
      "outputs": []
    },
    {
      "cell_type": "markdown",
      "source": [
        "We need to indicate the index of the column and the row where the digit of our problem is fixed and, put the digit."
      ],
      "metadata": {
        "id": "qZBMXTzI2kRX"
      }
    },
    {
      "cell_type": "code",
      "source": [
        "index_row = [0, 0, 1, 1, 1, 1, 2, 2, 2, 2, 3, 3, 3, 4, 4, 5, 5, 6, 6, 7, 7, 7, 8, 8]\n",
        "index_column = [4, 7, 0, 2, 3, 7, 1, 2, 4, 7, 1, 2, 5, 0, 4, 1, 3, 5, 8, 0, 4, 6, 6, 8]\n",
        "digit = [9, 2, 4, 2, 5 , 6, 5, 3, 7, 4, 7, 8, 1, 9, 5, 4, 6, 7, 2, 5, 4, 7, 1, 6]"
      ],
      "metadata": {
        "id": "B8NGEFXozpZS"
      },
      "execution_count": 7,
      "outputs": []
    },
    {
      "cell_type": "markdown",
      "source": [
        "Now, we have to fill the sudoku matrix with the function `matrix_sudoku`."
      ],
      "metadata": {
        "id": "ty5Hkem53ura"
      }
    },
    {
      "cell_type": "code",
      "source": [
        "matrix_sudoku(index_row, index_column, digit)"
      ],
      "metadata": {
        "colab": {
          "base_uri": "https://localhost:8080/"
        },
        "id": "MAceUyU4zxsR",
        "outputId": "b44cf176-d45d-44c6-f737-97cedc77f595"
      },
      "execution_count": 8,
      "outputs": [
        {
          "output_type": "stream",
          "name": "stdout",
          "text": [
            "Here is the Sudoku Problem:\n",
            "[0 0 0 0 9 0 0 2 0]\n",
            "[4 0 2 5 0 0 0 6 0]\n",
            "[0 5 3 0 7 0 0 4 0]\n",
            "[0 7 8 0 0 1 0 0 0]\n",
            "[9 0 0 0 5 0 0 0 0]\n",
            "[0 4 0 6 0 0 0 0 0]\n",
            "[0 0 0 0 0 7 0 0 2]\n",
            "[5 0 0 0 4 0 7 0 0]\n",
            "[0 0 0 0 0 0 1 0 6]\n"
          ]
        }
      ]
    },
    {
      "cell_type": "markdown",
      "source": [
        "Then, we call to the function `solve_sudoku` to obtain the solution of our problem ⭐."
      ],
      "metadata": {
        "id": "-iaM4-LV5mJ6"
      }
    },
    {
      "cell_type": "code",
      "source": [
        "solve_sudoku()"
      ],
      "metadata": {
        "colab": {
          "base_uri": "https://localhost:8080/"
        },
        "id": "bcT7FKC5zzLx",
        "outputId": "580bb008-8675-4566-8bb3-b2dbd8e00401"
      },
      "execution_count": 9,
      "outputs": [
        {
          "output_type": "stream",
          "name": "stdout",
          "text": [
            "Solution for the Sudoku Problem: \n",
            "[6 1 7 8 9 4 5 2 3]\n",
            "[4 9 2 5 1 3 8 6 7]\n",
            "[8 5 3 2 7 6 9 4 1]\n",
            "[2 7 8 4 3 1 6 9 5]\n",
            "[9 3 6 7 5 8 2 1 4]\n",
            "[1 4 5 6 2 9 3 7 8]\n",
            "[3 8 9 1 6 7 4 5 2]\n",
            "[5 6 1 3 4 2 7 8 9]\n",
            "[7 2 4 9 8 5 1 3 6]\n"
          ]
        }
      ]
    }
  ]
}
